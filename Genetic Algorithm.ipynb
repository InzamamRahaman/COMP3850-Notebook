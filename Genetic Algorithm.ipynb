{
 "cells": [
  {
   "cell_type": "code",
   "execution_count": 1,
   "metadata": {
    "collapsed": true
   },
   "outputs": [],
   "source": [
    "import numpy as np\n",
    "import functools\n",
    "import random\n",
    "import heapq\n",
    "\n",
    "def draw_one(s):\n",
    "    return random.sample(s, 1)[0]\n"
   ]
  },
  {
   "cell_type": "code",
   "execution_count": 20,
   "metadata": {
    "collapsed": true
   },
   "outputs": [],
   "source": [
    "class Chromosome(object):\n",
    "    \n",
    "    def __init__(self, num, chromosome, n, fitness_fun, gen):\n",
    "        self.num = num\n",
    "        self.chromosome = chromosome\n",
    "        self.n = n\n",
    "        self.gen = gen\n",
    "        self.fitness_fun = fitness_fun\n",
    "        self.fitness = None\n",
    "    \n",
    "    def get_fitness(self):\n",
    "        if self.fitness == None:\n",
    "            self.fitness = self.fitness_fun(self.chromosome)\n",
    "        return self.fitness\n",
    "    \n",
    "    def __add__(self, other):\n",
    "        mutation_prob = gen.mutation_prob\n",
    "        point = np.random.randint(1, self.n)\n",
    "        child = self.chromosome[0:point]\n",
    "        child.extend(other.chromosome[point:])\n",
    "        p = np.random.random_sample()\n",
    "        if p <= mutation_prob:\n",
    "            mutation_point = np.random.randint(0, n)\n",
    "            old = child[mutation_point]\n",
    "            alphabet = self.gen.alphabets(mutation_point)\n",
    "            new = draw_one(alphabet)\n",
    "            while old == new:\n",
    "                new = draw_one(alphabet)\n",
    "            child[mutation_point] = new \n",
    "        counter = gen.get_id()\n",
    "        return Chromosome(counter, child, self.n, self.fitness_fun, self.gen)\n",
    "    \n",
    "    def __cmp__(self, other):\n",
    "        return self.get_fitness() - other.get_fitness()\n",
    "    \n",
    "    def __lt__(self, other):\n",
    "        return self.get_fitness() < other.get_fitness()\n",
    "    \n",
    "\n",
    "        \n",
    "class ChromosomeFactory(object):\n",
    "    \n",
    "    def __init__(self, n, fitness_fun, alphabets=(lambda x: [0, 1]), mutation_prob=0.05):\n",
    "        self.fitness_fun = fitness_fun\n",
    "        self.alphabets = alphabets\n",
    "        self.mutation_prob = mutation_prob\n",
    "        self.n = n\n",
    "        self.counter = 0\n",
    "        \n",
    "    def get_id(self):\n",
    "        c = self.counter\n",
    "        self.counter += 1\n",
    "        return c\n",
    "    \n",
    "    def create(self):\n",
    "        c = []\n",
    "        for idx in range(self.n):\n",
    "            alphabet = self.alphabets(idx)\n",
    "            gene = draw_one(alphabet)\n",
    "            c.append(gene)\n",
    "        counter = self.get_id()\n",
    "        return Chromosome(counter, c, self.n, self.fitness_fun, self)\n",
    "    \n",
    "    \n",
    "        \n",
    "        "
   ]
  },
  {
   "cell_type": "code",
   "execution_count": 14,
   "metadata": {
    "collapsed": false
   },
   "outputs": [],
   "source": [
    "def roulette_wheel_gen(chromosomes):\n",
    "    ftinesses = map(lambda c: c.get_fitness(), chromosomes)\n",
    "    fitnesses = np.cumsum(fitnesses) / np.sum(fitnesses)\n",
    "    def f():\n",
    "        p = np.random.random_sample()\n",
    "        idx = 0\n",
    "        while p > fitnesses[idx + 1]:\n",
    "            idx += 1\n",
    "        return chromosomes[idx]\n",
    "    return f\n",
    "\n",
    "def get_elites(chromosomes, k=1):\n",
    "    return heapq.nlargest(k, chromosomes)\n",
    "\n",
    "def get_parents(chromosomes):\n",
    "    wheel = roulette_wheel_gen(chromosomes)\n",
    "    parent1 = wheel()\n",
    "    parent2 = wheel()\n",
    "    while parent1.num == parent2.num:\n",
    "        parent2 = wheel()\n",
    "    return (parent1, parent2)\n",
    "\n",
    "\n",
    "    "
   ]
  },
  {
   "cell_type": "code",
   "execution_count": 31,
   "metadata": {
    "collapsed": false
   },
   "outputs": [],
   "source": [
    "def fitness(chromosome_as_iterable):\n",
    "    rep = ''.join(map(str, chromosome_as_iterable))\n",
    "    x = int(rep, 2)\n",
    "    return 15 * x - x * x * x\n",
    "    "
   ]
  },
  {
   "cell_type": "code",
   "execution_count": 45,
   "metadata": {
    "collapsed": true
   },
   "outputs": [],
   "source": [
    "def genetic_algorithm(n, fitness_fun, alphabets=(lambda x: [0, 1]), mutation_prob=0.01, crossover_prob=0.8, elitism=2,\n",
    "                      population_size=20, num_generations=50):\n",
    "    factory = ChromosomeFactory(n, fitness_fun, alphabets, mutation_prob)\n",
    "    population = [factory.create() for _ in range(population_size)]\n",
    "    for generation in range(num_generations):\n",
    "        new_population = get_elites(population, elitism)\n",
    "        count = elitism\n",
    "        for _ in range(count + 1, elitism + 1):\n",
    "            p = np.random.random_sample()\n",
    "            parent1, parent2 = get_parents(population)\n",
    "            if p <= crossover_prob:\n",
    "                child = parent1 + parent2\n",
    "                population.append(child)\n",
    "            else:\n",
    "                population.append(draw_one([parent1, parent2]))\n",
    "    return (get_elites(population, 1)[0], population)           \n",
    "                "
   ]
  },
  {
   "cell_type": "code",
   "execution_count": 46,
   "metadata": {
    "collapsed": false
   },
   "outputs": [],
   "source": [
    "solution, population = genetic_algorithm(4, fitness)"
   ]
  },
  {
   "cell_type": "code",
   "execution_count": 47,
   "metadata": {
    "collapsed": false
   },
   "outputs": [
    {
     "data": {
      "text/plain": [
       "<__main__.Chromosome at 0x109d41f60>"
      ]
     },
     "execution_count": 47,
     "metadata": {},
     "output_type": "execute_result"
    }
   ],
   "source": [
    "solution\n"
   ]
  },
  {
   "cell_type": "code",
   "execution_count": 48,
   "metadata": {
    "collapsed": false
   },
   "outputs": [
    {
     "data": {
      "text/plain": [
       "[0, 0, 1, 1]"
      ]
     },
     "execution_count": 48,
     "metadata": {},
     "output_type": "execute_result"
    }
   ],
   "source": [
    "solution.chromosome"
   ]
  },
  {
   "cell_type": "code",
   "execution_count": 51,
   "metadata": {
    "collapsed": false
   },
   "outputs": [
    {
     "data": {
      "text/plain": [
       "[0, 1, 0, 0]"
      ]
     },
     "execution_count": 51,
     "metadata": {},
     "output_type": "execute_result"
    }
   ],
   "source": [
    "population[].chromosome"
   ]
  },
  {
   "cell_type": "code",
   "execution_count": null,
   "metadata": {
    "collapsed": true
   },
   "outputs": [],
   "source": []
  }
 ],
 "metadata": {
  "anaconda-cloud": {},
  "kernelspec": {
   "display_name": "Python [conda root]",
   "language": "python",
   "name": "conda-root-py"
  },
  "language_info": {
   "codemirror_mode": {
    "name": "ipython",
    "version": 3
   },
   "file_extension": ".py",
   "mimetype": "text/x-python",
   "name": "python",
   "nbconvert_exporter": "python",
   "pygments_lexer": "ipython3",
   "version": "3.5.2"
  }
 },
 "nbformat": 4,
 "nbformat_minor": 1
}
