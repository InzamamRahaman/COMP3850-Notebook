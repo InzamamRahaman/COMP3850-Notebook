{
 "cells": [
  {
   "cell_type": "code",
   "execution_count": 1,
   "metadata": {
    "collapsed": true
   },
   "outputs": [],
   "source": [
    "import numpy as np\n",
    "import copy"
   ]
  },
  {
   "cell_type": "code",
   "execution_count": 83,
   "metadata": {
    "collapsed": false
   },
   "outputs": [],
   "source": [
    "class MultilayeredNeuralNetwork(object):\n",
    "    \n",
    "    activation_funs = {\n",
    "        'tanh': np.tanh,\n",
    "        'sigm': np.vectorize(lambda x: 1.0 / (1.0 + np.exp(-1.0 * x)))\n",
    "    }\n",
    "    \n",
    "    def __init__(self, layers, activation_fun='tanh', alpha=0.15, beta=0.1):\n",
    "        self.alpha = alpha\n",
    "        self.beta = beta\n",
    "        self.f = MultilayeredNeuralNetwork.activation_funs[activation_fun]\n",
    "        self.f_prime = lambda x: 1 - self.f(x)\n",
    "        self.num_layers = len(layers) - 1\n",
    "        self.layers = []\n",
    "        self.thetas = []\n",
    "        self.xs = []\n",
    "        self.ys = []\n",
    "        self.deltas = []\n",
    "        self.Deltas = []\n",
    "        for l in range(self.num_layers):\n",
    "            r = 2.4 / layers[l]\n",
    "            size = (layers[l], layers[l + 1])\n",
    "            w = np.random.random(size) - r\n",
    "            self.thetas.append(np.random.random(layers[l + 1]) - r)\n",
    "            self.layers.append(w)\n",
    "            self.deltas.append(None)\n",
    "            self.Deltas.append(None)\n",
    "            \n",
    "            \n",
    "    def fit(self, X, Y, epochs=5000):\n",
    "        for epoch in range(epochs):\n",
    "            for x, actual_y in zip(X, Y):\n",
    "                predicted_y = self.predict(x)\n",
    "                error = actual_y - predicted_y\n",
    "                self.deltas[-1] = self.ys[-1]\n",
    "                self.deltas[-1] *= 1 - self.ys[-1]\n",
    "                self.deltas[-1] *= error\n",
    "                #self.Deltas[self.num_layers - 1] = self.alpha * self.xs[self.num_layers - 1].T.dot(self.deltas[self.num_layers - 1])\n",
    "                #self.Deltas[-1] = self.alpha * np.reshape(self.xs[-1].T, (3, 1)) @ self.deltas[-1]\n",
    "                #self.Deltas[-1] = np.reshape(self.Deltas[-1], (3, 1))\n",
    "                #print(self.Deltas[-1], self.layers[-1], np.reshape(self.xs[-1].T, (3, 1)))\n",
    "                for l in range(self.num_layers - 2, -1, -1):\n",
    "                    self.deltas[l] = self.ys[l] * (1 - self.ys[l])\n",
    "                    self.deltas[l] *= self.deltas[l + 1].dot(self.layers[l + 1].T)\n",
    "                \n",
    "                for l in range(self.num_layers):\n",
    "                    rows, cols = self.layers[l].shape\n",
    "                    x = np.reshape(self.xs[l].T, (rows, 1))\n",
    "                    d = np.reshape(self.deltas[l], (1, cols))\n",
    "                    self.Deltas[l] = self.alpha * x.dot(d)\n",
    "                    self.layers[l] += self.Deltas[l]\n",
    "                    self.thetas[l] += self.alpha * -1 * self.deltas[l]\n",
    "                \n",
    "        #return self.deltas, self.Deltas\n",
    "                \n",
    "    \n",
    "    def predict(self, x):\n",
    "        y = x \n",
    "        self.xs = []\n",
    "        self.ys = []\n",
    "        for layer, theta in zip(self.layers, self.thetas):\n",
    "            self.xs.append(y)\n",
    "            temp = np.dot(y, layer)\n",
    "            temp -= theta\n",
    "            y = self.f(temp)\n",
    "            self.ys.append(y)\n",
    "        return y\n",
    "            \n",
    "            \n",
    "        \n",
    "    "
   ]
  },
  {
   "cell_type": "code",
   "execution_count": 84,
   "metadata": {
    "collapsed": false
   },
   "outputs": [
    {
     "name": "stdout",
     "output_type": "stream",
     "text": [
      "[ 0.32141961]\n",
      "[ 0.59761275]\n",
      "[ 0.78147525]\n",
      "[ 0.87345311]\n"
     ]
    }
   ],
   "source": [
    "nn = MultilayeredNeuralNetwork([2, 2, 1])\n",
    "X = np.array([\n",
    "        [0, 0],\n",
    "        [0, 1],\n",
    "        [1, 0], \n",
    "        [1, 1]\n",
    "    ])\n",
    "Y = np.array([0, 1, 1, 0])\n",
    "print(nn.predict([0, 0]))\n",
    "print(nn.predict([0, 1]))\n",
    "print(nn.predict([1, 0]))\n",
    "print(nn.predict([1, 1]))"
   ]
  },
  {
   "cell_type": "code",
   "execution_count": 85,
   "metadata": {
    "collapsed": false
   },
   "outputs": [],
   "source": [
    "nn.fit(X, Y)"
   ]
  },
  {
   "cell_type": "code",
   "execution_count": 86,
   "metadata": {
    "collapsed": false
   },
   "outputs": [
    {
     "name": "stdout",
     "output_type": "stream",
     "text": [
      "[ 0.0170538]\n",
      "[ 0.97517594]\n",
      "[ 0.97511299]\n",
      "[ 0.03402422]\n"
     ]
    }
   ],
   "source": [
    "print(nn.predict([0, 0]))\n",
    "print(nn.predict([0, 1]))\n",
    "print(nn.predict([1, 0]))\n",
    "print(nn.predict([1, 1]))"
   ]
  },
  {
   "cell_type": "code",
   "execution_count": null,
   "metadata": {
    "collapsed": true
   },
   "outputs": [],
   "source": []
  }
 ],
 "metadata": {
  "anaconda-cloud": {},
  "kernelspec": {
   "display_name": "Python [conda root]",
   "language": "python",
   "name": "conda-root-py"
  },
  "language_info": {
   "codemirror_mode": {
    "name": "ipython",
    "version": 3
   },
   "file_extension": ".py",
   "mimetype": "text/x-python",
   "name": "python",
   "nbconvert_exporter": "python",
   "pygments_lexer": "ipython3",
   "version": "3.5.2"
  }
 },
 "nbformat": 4,
 "nbformat_minor": 1
}
