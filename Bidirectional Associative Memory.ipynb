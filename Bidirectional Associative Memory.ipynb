{
 "cells": [
  {
   "cell_type": "code",
   "execution_count": 4,
   "metadata": {
    "collapsed": false
   },
   "outputs": [],
   "source": [
    "import numpy as np\n",
    "import functools\n",
    "import operator as op"
   ]
  },
  {
   "cell_type": "code",
   "execution_count": 56,
   "metadata": {
    "collapsed": true
   },
   "outputs": [],
   "source": [
    "def scalar_sign(x):\n",
    "    if x < 0.0:\n",
    "        return -1\n",
    "    if x > 0.0:\n",
    "        return 1\n",
    "    return 0.0\n",
    "\n",
    "sign = np.vectorize(scalar_sign)\n",
    "\n",
    "class BidirectionalAssociativeMemory(object):\n",
    "    \n",
    "    def __init__(self, x, y):\n",
    "        self.weight = np.dot(x.T, y)\n",
    "        \n",
    "    def compute_forward(self, x):\n",
    "        y = np.dot(x.T, self.weight)\n",
    "        y = sign(y)\n",
    "        return y.T.astype(np.float64)\n",
    "    \n",
    "    def compute_backwards(self, y):\n",
    "        x = np.dot(self.weight.T, y)\n",
    "        x = sign(y)\n",
    "        return x.T.astype(np.float64)\n",
    "        \n",
    "    def retrieve(self, x):\n",
    "        x0 = x.T \n",
    "        print(x0)\n",
    "        y0 = self.compute_forward(x)\n",
    "        print(y0)\n",
    "        x1 = sign(np.dot(self.weight, y0))\n",
    "        y1 = self.compute_forward(x1)\n",
    "        p = 0\n",
    "        converged = np.equal(x0, x1).all() and np.equal(y0, y1).all()\n",
    "        while not converged:\n",
    "            p += 1\n",
    "            x0 = x1\n",
    "            y0 = y1\n",
    "            x1 = sign(np.dot(self.weight, y0))\n",
    "            y1 = self.compute_forward(x1)\n",
    "            converged = np.equal(x0, x1).all() and np.equal(y0, y1).all()\n",
    "            if p > 10:\n",
    "                break\n",
    "        return (p, x1, y1)\n",
    "            \n",
    "    \n",
    "        \n",
    "    "
   ]
  },
  {
   "cell_type": "code",
   "execution_count": 57,
   "metadata": {
    "collapsed": false
   },
   "outputs": [
    {
     "name": "stdout",
     "output_type": "stream",
     "text": [
      "[1 1 1 1 1 1]\n",
      "[ 1.  1.  1.  1.  1.  1.]\n",
      "[ 1.  1.  1.]\n"
     ]
    }
   ],
   "source": [
    "x = np.array([\n",
    "        [1,1,1,1,1,1],\n",
    "        [-1,-1,-1,-1,-1,-1],\n",
    "        [1,1,-1,-1,1,1],\n",
    "        [-1,-1,1,1,-1,-1]\n",
    "    ])\n",
    "\n",
    "y = np.array([\n",
    "        [1,1,1],\n",
    "        [-1,-1,-1],\n",
    "        [1,-1,1],\n",
    "        [-1,1,-1]\n",
    "    ])\n",
    "network = BidirectionalAssociativeMemory(x, y)\n",
    "print(x[0])\n",
    "print(network.compute_backwards(x[0]))\n",
    "print(network.compute_forward(x[0]))\n"
   ]
  },
  {
   "cell_type": "code",
   "execution_count": 58,
   "metadata": {
    "collapsed": false
   },
   "outputs": [
    {
     "name": "stdout",
     "output_type": "stream",
     "text": [
      "[-1  1  1  1  1  1]\n",
      "[ 1.  1.  1.]\n"
     ]
    },
    {
     "data": {
      "text/plain": [
       "(1, array([1, 1, 1, 1, 1, 1]), array([ 1.,  1.,  1.]))"
      ]
     },
     "execution_count": 58,
     "metadata": {},
     "output_type": "execute_result"
    }
   ],
   "source": [
    "network.retrieve(np.array([-1, 1, 1, 1, 1, 1]))"
   ]
  },
  {
   "cell_type": "code",
   "execution_count": null,
   "metadata": {
    "collapsed": true
   },
   "outputs": [],
   "source": []
  }
 ],
 "metadata": {
  "anaconda-cloud": {},
  "kernelspec": {
   "display_name": "Python [conda root]",
   "language": "python",
   "name": "conda-root-py"
  },
  "language_info": {
   "codemirror_mode": {
    "name": "ipython",
    "version": 3
   },
   "file_extension": ".py",
   "mimetype": "text/x-python",
   "name": "python",
   "nbconvert_exporter": "python",
   "pygments_lexer": "ipython3",
   "version": "3.5.2"
  }
 },
 "nbformat": 4,
 "nbformat_minor": 1
}
