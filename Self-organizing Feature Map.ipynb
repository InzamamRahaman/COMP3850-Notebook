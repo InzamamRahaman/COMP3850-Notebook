{
 "cells": [
  {
   "cell_type": "code",
   "execution_count": 2,
   "metadata": {
    "collapsed": false
   },
   "outputs": [],
   "source": [
    "import numpy as np\n",
    "import functools \n",
    "import operator as op"
   ]
  },
  {
   "cell_type": "code",
   "execution_count": 45,
   "metadata": {
    "collapsed": false
   },
   "outputs": [],
   "source": [
    "def distance(x, y):\n",
    "    z = x - y\n",
    "    d = np.linalg.norm(z)\n",
    "    return d\n",
    "\n",
    "def is_neighbour(x, y):\n",
    "    d = distance(x, y)\n",
    "    if d < 0.01:\n",
    "        return True\n",
    "    return False\n",
    "\n",
    "\n",
    "\n",
    "class SelfOrganizingMap(object):\n",
    "    \n",
    "    def __init__(self, i, j, alpha=0.1, is_neighbour=is_neighbour):\n",
    "        self.weights = []\n",
    "        self.i = i\n",
    "        self.j = j\n",
    "        self.alpha = alpha\n",
    "        self.is_neighbour = is_neighbour\n",
    "        for _ in range(j):\n",
    "            self.weights.append(np.random.random((1, i)))\n",
    "        \n",
    "    def get_vec(self, x):\n",
    "        idx = min(range(self.j), key=lambda y: distance(x, self.weights[y]))\n",
    "        return (idx, self.weights[idx])\n",
    "    \n",
    "    def get_neighbours(self, x):\n",
    "        idxs = filter(lambda y: self.is_neighbour(x, self.weights[y]), range(self.j))\n",
    "        return idxs\n",
    "    \n",
    "    def train(self, X, epochs=1000):\n",
    "        for _ in range(epochs):\n",
    "            for x in X:\n",
    "                y_idx, y = self.get_vec(x)\n",
    "                idxs = self.get_neighbours(y)\n",
    "                for idx in idxs:\n",
    "                    delta = (self.alpha * x - self.weights[idx])\n",
    "                    self.weights[idx] += delta\n",
    "    \n",
    "        "
   ]
  },
  {
   "cell_type": "code",
   "execution_count": 46,
   "metadata": {
    "collapsed": false
   },
   "outputs": [
    {
     "data": {
      "text/plain": [
       "[array([[ 0.50164582,  0.07066768]]),\n",
       " array([[ 0.71564937,  0.03913366]]),\n",
       " array([[ 0.37194821,  0.06714273]]),\n",
       " array([[ 0.41876724,  0.60075787]]),\n",
       " array([[ 0.63589785,  0.31081202]]),\n",
       " array([[ 0.22435659,  0.61971489]]),\n",
       " array([[ 0.19251918,  0.92960153]]),\n",
       " array([[ 0.12295358,  0.393484  ]]),\n",
       " array([[ 0.17920283,  0.02254849]]),\n",
       " array([[ 0.16855686,  0.4247714 ]])]"
      ]
     },
     "execution_count": 46,
     "metadata": {},
     "output_type": "execute_result"
    }
   ],
   "source": [
    "X = np.array([\n",
    "        [0.2, 0.9],\n",
    "        [0.6, -0.2],\n",
    "        [-0.7, -0.8]\n",
    "    ])\n",
    "m = SelfOrganizingMap(2, 10)\n",
    "#m.train(X)\n",
    "m.weights"
   ]
  },
  {
   "cell_type": "code",
   "execution_count": 47,
   "metadata": {
    "collapsed": false
   },
   "outputs": [],
   "source": [
    "m.train(X)"
   ]
  },
  {
   "cell_type": "code",
   "execution_count": 48,
   "metadata": {
    "collapsed": false
   },
   "outputs": [
    {
     "data": {
      "text/plain": [
       "[array([[ 0.06, -0.02]]),\n",
       " array([[-0.07, -0.08]]),\n",
       " array([[ 0.06, -0.02]]),\n",
       " array([[ 0.02,  0.09]]),\n",
       " array([[ 0.06, -0.02]]),\n",
       " array([[ 0.02,  0.09]]),\n",
       " array([[ 0.02,  0.09]]),\n",
       " array([[ 0.02,  0.09]]),\n",
       " array([[ 0.06, -0.02]]),\n",
       " array([[ 0.02,  0.09]])]"
      ]
     },
     "execution_count": 48,
     "metadata": {},
     "output_type": "execute_result"
    }
   ],
   "source": [
    "m.weights"
   ]
  },
  {
   "cell_type": "code",
   "execution_count": 50,
   "metadata": {
    "collapsed": false
   },
   "outputs": [
    {
     "data": {
      "text/plain": [
       "(0, array([[ 0.06, -0.02]]))"
      ]
     },
     "execution_count": 50,
     "metadata": {},
     "output_type": "execute_result"
    }
   ],
   "source": [
    "m.get_vec(np.array([12, 0.9]))"
   ]
  },
  {
   "cell_type": "code",
   "execution_count": 36,
   "metadata": {
    "collapsed": false
   },
   "outputs": [
    {
     "data": {
      "text/plain": [
       "[array([[-0.07, -0.08]]), array([[-0.07, -0.08]])]"
      ]
     },
     "execution_count": 36,
     "metadata": {},
     "output_type": "execute_result"
    }
   ],
   "source": [
    "m.weights"
   ]
  },
  {
   "cell_type": "code",
   "execution_count": null,
   "metadata": {
    "collapsed": true
   },
   "outputs": [],
   "source": []
  }
 ],
 "metadata": {
  "anaconda-cloud": {},
  "kernelspec": {
   "display_name": "Python [default]",
   "language": "python",
   "name": "python3"
  },
  "language_info": {
   "codemirror_mode": {
    "name": "ipython",
    "version": 3
   },
   "file_extension": ".py",
   "mimetype": "text/x-python",
   "name": "python",
   "nbconvert_exporter": "python",
   "pygments_lexer": "ipython3",
   "version": "3.5.2"
  }
 },
 "nbformat": 4,
 "nbformat_minor": 1
}
