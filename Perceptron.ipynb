{
 "cells": [
  {
   "cell_type": "code",
   "execution_count": 50,
   "metadata": {
    "collapsed": true
   },
   "outputs": [],
   "source": [
    "import numpy as np # imported to provide support for linear algebra operations and random number generation\n",
    "import copy"
   ]
  },
  {
   "cell_type": "code",
   "execution_count": 72,
   "metadata": {
    "collapsed": false
   },
   "outputs": [],
   "source": [
    "class Perceptron(object):\n",
    "    activation_funs = {\n",
    "        'sign': (lambda x: 1 if x >= 0 else 0),\n",
    "        'step': (lambda x: 1 if x >= 0.5 else 0)\n",
    "    }\n",
    "    \n",
    "    def __init__(self, num_inputs, activation_fun='step', alpha=0.25):\n",
    "        self.fun = Perceptron.activation_funs[activation_fun]\n",
    "        self.theta = np.random.random_sample() \n",
    "        self.weights = np.random.random(num_inputs)\n",
    "        self.alpha = alpha\n",
    "    \n",
    "    def fit(self, X, Y, limit=10000):\n",
    "        converged = False\n",
    "        for _ in range(limit):\n",
    "            prev_weights = copy.deepcopy(self.weights)\n",
    "            for x, actual_y in zip(X, Y):\n",
    "                predicted_y = self.predict(x)\n",
    "                if actual_y != predicted_y:\n",
    "                    delta = self.alpha * (actual_y - predicted_y) * x \n",
    "                    self.weights += delta\n",
    "            if np.array_equal(prev_weights, self.weights):\n",
    "                converged = True\n",
    "                break\n",
    "        return converged\n",
    "            \n",
    "    \n",
    "    def predict(self, x):\n",
    "        dot_product = np.dot(x, self.weights)\n",
    "        dot_product -= self.theta\n",
    "        return self.fun(dot_product)"
   ]
  },
  {
   "cell_type": "code",
   "execution_count": 73,
   "metadata": {
    "collapsed": false
   },
   "outputs": [],
   "source": [
    "perceptron = Perceptron(2, activation_fun='step')\n",
    "X = np.array([\n",
    "        [0, 0],\n",
    "        [0, 1],\n",
    "        [1, 0],\n",
    "        [1, 1]\n",
    "    ])\n",
    "Y = np.array([0, 0, 0, 1])"
   ]
  },
  {
   "cell_type": "code",
   "execution_count": 74,
   "metadata": {
    "collapsed": false
   },
   "outputs": [
    {
     "data": {
      "text/plain": [
       "True"
      ]
     },
     "execution_count": 74,
     "metadata": {},
     "output_type": "execute_result"
    }
   ],
   "source": [
    "perceptron.fit(X, Y)"
   ]
  },
  {
   "cell_type": "code",
   "execution_count": 75,
   "metadata": {
    "collapsed": false
   },
   "outputs": [],
   "source": [
    "assert(perceptron.predict([0, 0]) == 0)\n",
    "assert(perceptron.predict([0, 1]) == 0)\n",
    "assert(perceptron.predict([1, 0]) == 0)\n",
    "assert(perceptron.predict([1, 1]) == 1)"
   ]
  },
  {
   "cell_type": "code",
   "execution_count": 76,
   "metadata": {
    "collapsed": false
   },
   "outputs": [
    {
     "data": {
      "text/plain": [
       "array([ 0.85501635,  0.16474376])"
      ]
     },
     "execution_count": 76,
     "metadata": {},
     "output_type": "execute_result"
    }
   ],
   "source": [
    "\n"
   ]
  },
  {
   "cell_type": "code",
   "execution_count": 77,
   "metadata": {
    "collapsed": false
   },
   "outputs": [
    {
     "data": {
      "text/plain": [
       "1"
      ]
     },
     "execution_count": 77,
     "metadata": {},
     "output_type": "execute_result"
    }
   ],
   "source": []
  },
  {
   "cell_type": "code",
   "execution_count": null,
   "metadata": {
    "collapsed": true
   },
   "outputs": [],
   "source": []
  }
 ],
 "metadata": {
  "anaconda-cloud": {},
  "kernelspec": {
   "display_name": "Python [conda root]",
   "language": "python",
   "name": "conda-root-py"
  },
  "language_info": {
   "codemirror_mode": {
    "name": "ipython",
    "version": 3
   },
   "file_extension": ".py",
   "mimetype": "text/x-python",
   "name": "python",
   "nbconvert_exporter": "python",
   "pygments_lexer": "ipython3",
   "version": "3.5.2"
  }
 },
 "nbformat": 4,
 "nbformat_minor": 1
}
